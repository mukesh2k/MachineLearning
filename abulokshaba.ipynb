{
 "cells": [
  {
   "cell_type": "code",
   "execution_count": null,
   "metadata": {},
   "outputs": [],
   "source": [
    "#Data cleaning functions\n",
    "def money_convertor(a):\n",
    "    val = str(a)\n",
    "    val = val[3:val.find('~')].split(',')\n",
    "    num = \"\"\n",
    "    for i in val:\n",
    "        num += i\n",
    "    try:\n",
    "        num = int(num)\n",
    "    except:\n",
    "        num = -1\n",
    "    return num\n",
    "\n",
    "\n",
    "def fun(a):\n",
    "    if a == \"Not Available\":\n",
    "        return 0\n",
    "    return int(a)"
   ]
  },
  {
   "cell_type": "code",
   "execution_count": null,
   "metadata": {},
   "outputs": [],
   "source": [
    "import pandas as pd\n",
    "import numpy as np\n",
    "filepath = \"F:\\El-Padrino\\Workouts\\ml\\Lok Sabha_2.0.csv\"\n",
    "data = pd.read_csv(filepath)\n",
    "data['ASSETS'] = data['ASSETS'].map(money_convertor)\n",
    "data['LIABILITIES'] = data['LIABILITIES'].map(money_convertor)\n",
    "\n",
    "data.head()"
   ]
  },
  {
   "cell_type": "code",
   "execution_count": null,
   "metadata": {},
   "outputs": [],
   "source": [
    "data[\"PARTY\"].value_counts()\n",
    "data[\"PARTY\"].unique()"
   ]
  },
  {
   "cell_type": "markdown",
   "metadata": {},
   "source": [
    "In this 133 party took place"
   ]
  },
  {
   "cell_type": "code",
   "execution_count": null,
   "metadata": {},
   "outputs": [],
   "source": [
    "data[\"STATE\"].value_counts().head()  #here number of candidate from each states have been found"
   ]
  },
  {
   "cell_type": "code",
   "execution_count": null,
   "metadata": {},
   "outputs": [],
   "source": [
    "group = data.groupby(['PARTY', 'WINNER']).PARTY.count()\n",
    "group"
   ]
  },
  {
   "cell_type": "markdown",
   "metadata": {},
   "source": [
    "From this number of winners and losers from each party can be known"
   ]
  },
  {
   "cell_type": "code",
   "execution_count": null,
   "metadata": {},
   "outputs": [],
   "source": [
    "fram=group.to_frame(\"Counts\")\n",
    "fram.sort_values(ascending=False,by=[\"Counts\"])\n",
    "#from this we can see that "
   ]
  },
  {
   "cell_type": "code",
   "execution_count": null,
   "metadata": {},
   "outputs": [],
   "source": [
    "data[\"PARTY\"].value_counts()"
   ]
  },
  {
   "cell_type": "markdown",
   "metadata": {},
   "source": [
    "By comparing both the above cells on can see BJP has won 300 (from cell 2 above) from its total (420 cell 1 above)"
   ]
  },
  {
   "cell_type": "code",
   "execution_count": null,
   "metadata": {},
   "outputs": [],
   "source": [
    "data[\"GENDER\"].value_counts()"
   ]
  },
  {
   "cell_type": "code",
   "execution_count": null,
   "metadata": {},
   "outputs": [],
   "source": [
    "data[data.WINNER==1][\"GENDER\"].value_counts()"
   ]
  },
  {
   "cell_type": "code",
   "execution_count": null,
   "metadata": {},
   "outputs": [],
   "source": [
    "male_win_ratio=463/1760*100\n",
    "female_win_ratio=76/258*100\n",
    "print(str(male_win_ratio)+\" \"+str(female_win_ratio))\n"
   ]
  },
  {
   "cell_type": "markdown",
   "metadata": {},
   "source": [
    "male and female candidates are almost equally winning,\n",
    "even though 3 percent is more we need to consider the total amount of candiature"
   ]
  },
  {
   "cell_type": "code",
   "execution_count": null,
   "metadata": {},
   "outputs": [],
   "source": [
    "tot_edu = data[\"EDUCATION\"].value_counts()\n",
    "win_edu = data[data.WINNER == 1][\"EDUCATION\"].value_counts()\n",
    "tot_lis=[]\n",
    "win_lis=[]\n",
    "win_ra=[]\n",
    "col=[]\n",
    "\n",
    "for index, value in tot_edu.items():\n",
    "    tot_lis.append(value)\n",
    "    if index in win_edu:\n",
    "        win_lis.append(win_edu[index])\n",
    "        win_ra.append(win_edu[index]/value)\n",
    "    else:\n",
    "        win_lis.append(0)\n",
    "        win_ra.append(0)\n",
    "    col.append(index)\n",
    "fram=pd.DataFrame({\"Total\":tot_lis,\"Winner\":win_lis,\"Ratio\":win_ra},index=col)\n",
    "fram\n"
   ]
  },
  {
   "cell_type": "markdown",
   "metadata": {},
   "source": [
    "From the above we can see that education is not very important in winning, but one need to ensure that an education is compulsory since illiterates were not winning the elections"
   ]
  },
  {
   "cell_type": "markdown",
   "metadata": {},
   "source": [
    "caterogy of people are highly in this field\n",
    "winning based on asserts\n",
    "age group present in politics"
   ]
  },
  {
   "cell_type": "code",
   "execution_count": null,
   "metadata": {},
   "outputs": [],
   "source": [
    "data.groupby('CATEGORY').CATEGORY.count()"
   ]
  },
  {
   "cell_type": "code",
   "execution_count": null,
   "metadata": {},
   "outputs": [],
   "source": [
    "tot = list(data.groupby('CATEGORY').CATEGORY.count())\n",
    "win = list(data[data.WINNER == 1].groupby('CATEGORY').CATEGORY.count())\n",
    "[win[i]/tot[i] for i in range(3)]"
   ]
  },
  {
   "cell_type": "markdown",
   "metadata": {},
   "source": [
    "Based on category winning conclusion is not achieved"
   ]
  },
  {
   "cell_type": "code",
   "execution_count": null,
   "metadata": {},
   "outputs": [],
   "source": [
    "data1=data\n",
    "d1 = data1.groupby(pd.cut(data1[\"ASSETS\"], np.arange(-100000001, 3000000000, 100000000))).count().STATE\n",
    "d2 = data1.groupby(pd.cut(data1[\"ASSETS\"], np.arange(-100000001, 3000000000, 100000000))).sum().WINNER\n",
    "d1=list(d1)\n",
    "d2=list(d2)\n",
    "col=[]\n",
    "for i in range(-100000000, 3000000000, 100000000):\n",
    "    num = str(i)+','+str(i+100000000)\n",
    "    col.append(num)\n",
    "fram=pd.DataFrame({\"total\":d1,\"winner\":d2},index=col)\n",
    "fram[\"ratio\"]=fram[\"winner\"]/fram['total']\n",
    "fram\n"
   ]
  },
  {
   "cell_type": "markdown",
   "metadata": {},
   "source": [
    "400000000,500000000 in this range winning is high and without any income data winning is tough\n"
   ]
  },
  {
   "cell_type": "code",
   "execution_count": null,
   "metadata": {},
   "outputs": [],
   "source": [
    "d1 = data1.groupby(pd.cut(\n",
    "    data1[\"LIABILITIES\"], np.arange(-1000001, 30000000, 1000000))).count().STATE\n",
    "d2 = data1.groupby(pd.cut(\n",
    "    data1[\"LIABILITIES\"], np.arange(-1000001, 30000000, 1000000))).sum().WINNER\n",
    "d1 = list(d1)\n",
    "d2 = list(d2)\n",
    "col = []\n",
    "for i in range(-1000000, 30000000, 1000000):\n",
    "    num = str(i)+','+str(i+1000000)\n",
    "    col.append(num)\n",
    "fram = pd.DataFrame({\"total\": d1, \"winner\": d2}, index=col)\n",
    "fram[\"ratio\"] = fram[\"winner\"]/fram['total']\n",
    "fram\n"
   ]
  },
  {
   "cell_type": "markdown",
   "metadata": {},
   "source": [
    "No useful informations were obtained in LIABILITIES"
   ]
  },
  {
   "cell_type": "code",
   "execution_count": null,
   "metadata": {},
   "outputs": [],
   "source": [
    "\n",
    "tot=data[\"CRIMINAL\\nCASES\"].fillna(0).map(fun)\n",
    "#tot=data[\"WINNER\"].fillna(0).map(fun)\n",
    "win = data[data.WINNER==1][\"CRIMINAL\\nCASES\"].fillna(0).map(fun)\n",
    "print(tot.sum())\n",
    "print(win.sum())\n"
   ]
  },
  {
   "cell_type": "markdown",
   "metadata": {},
   "source": [
    "Total number of candidate = 2264\n",
    "\n",
    "Total number of criminal = 2934 \n",
    "\n",
    "Candidates won = 539\n",
    "\n",
    "Number of criminals in winning area= 1029\n",
    "\n",
    "\n",
    "nearly 1/3 of criminals are present in winning zone so it can be considered as criminals contribute in winning little.\n",
    "\n"
   ]
  },
  {
   "cell_type": "code",
   "execution_count": null,
   "metadata": {},
   "outputs": [],
   "source": [
    "tot = data[\"POSTAL\\nVOTES\"].fillna(0).map(fun)\n",
    "win = data[data.WINNER == 1][\"POSTAL\\nVOTES\"].fillna(0).map(fun)\n",
    "print(tot.sum())\n",
    "print(win.sum())\n",
    "print(win.sum()/tot.sum()*100)\n"
   ]
  },
  {
   "cell_type": "markdown",
   "metadata": {},
   "source": [
    "Nearly 60% of the postal votes were contributed for winning. Since postal votes were not as legitimate as direct vote there could be a chance of forgery in winning in certain area."
   ]
  },
  {
   "cell_type": "code",
   "execution_count": null,
   "metadata": {},
   "outputs": [],
   "source": [
    "v=data[data.WINNER==1]\n",
    "v1 = ['TOTAL\\nVOTES', 'POSTAL\\nVOTES']\n",
    "v2=v[v1].fillna(0)\n",
    "v2[\"ratio\"] = v['POSTAL\\nVOTES']/v['TOTAL\\nVOTES']\n",
    "v2.sort_values(by=\"ratio\",ascending=False)"
   ]
  },
  {
   "cell_type": "markdown",
   "metadata": {},
   "source": [
    "Ratio of postal votes to total votes are very low this proves the majority very General hence they are legitimate\n"
   ]
  },
  {
   "cell_type": "code",
   "execution_count": null,
   "metadata": {},
   "outputs": [],
   "source": [
    "data.STATE.unique()"
   ]
  },
  {
   "cell_type": "code",
   "execution_count": null,
   "metadata": {},
   "outputs": [],
   "source": [
    "sta = 'Uttar Pradesh'  # set the required state\n",
    "wn = data[data.WINNER == 1][data.STATE == sta].PARTY.value_counts()\n",
    "ls = data[data.WINNER == 0][data.STATE == sta].PARTY.value_counts()\n",
    "winn=[]\n",
    "lss=[]\n",
    "name=[]\n",
    "for k,v in ls.items():\n",
    "    # name.append(k)\n",
    "    # lss.append(v)\n",
    "    # if k in wn:\n",
    "    #     winn.append(wn[k])\n",
    "    # else:\n",
    "    #     winn.append(0)\n",
    "    if k in wn:\n",
    "        winn.append(wn[k])\n",
    "        name.append(k)\n",
    "        lss.append(v)\n",
    "    \n",
    "fram=pd.DataFrame({'wins':winn,'lose':lss},index=name)\n",
    "ax = fram.plot.bar(rot=0)\n"
   ]
  },
  {
   "cell_type": "markdown",
   "metadata": {},
   "source": [
    "From the above function one can visualise the parties that win or lose over a specfic state"
   ]
  }
 ],
 "metadata": {
  "interpreter": {
   "hash": "463ba9f5983ec7c72316ed0ecddeb48cedc0cfa144857b5ff06777b21a7fab09"
  },
  "kernelspec": {
   "display_name": "Python 3.9.1 64-bit",
   "language": "python",
   "name": "python3"
  },
  "language_info": {
   "codemirror_mode": {
    "name": "ipython",
    "version": 3
   },
   "file_extension": ".py",
   "mimetype": "text/x-python",
   "name": "python",
   "nbconvert_exporter": "python",
   "pygments_lexer": "ipython3",
   "version": "3.9.1"
  },
  "orig_nbformat": 4
 },
 "nbformat": 4,
 "nbformat_minor": 2
}
